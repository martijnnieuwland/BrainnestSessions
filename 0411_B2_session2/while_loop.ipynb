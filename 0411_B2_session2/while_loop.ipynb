{
 "cells": [
  {
   "attachments": {},
   "cell_type": "markdown",
   "metadata": {},
   "source": [
    "1. Create a while loop that repeatedly takes user input and adds the input to a list until the user enters \"done\"."
   ]
  },
  {
   "cell_type": "code",
   "execution_count": 3,
   "metadata": {},
   "outputs": [
    {
     "name": "stdout",
     "output_type": "stream",
     "text": [
      "['5', '8']\n"
     ]
    }
   ],
   "source": [
    "numbers = []\n",
    "number = input(\"Enter a number: \")\n",
    "while number != \"done\":\n",
    "    numbers.append(number)\n",
    "    number = input(\"Enter a number: \")\n",
    "\n",
    "print(numbers)\n"
   ]
  },
  {
   "attachments": {},
   "cell_type": "markdown",
   "metadata": {},
   "source": [
    "2. Create a while loop that generates random numbers and adds them to a list until the sum of all numbers in the list is greater than 100."
   ]
  },
  {
   "cell_type": "code",
   "execution_count": 6,
   "metadata": {},
   "outputs": [
    {
     "name": "stdout",
     "output_type": "stream",
     "text": [
      "[26, 28, 2, 36, 65] 157\n"
     ]
    }
   ],
   "source": [
    "from random import randint\n",
    "\n",
    "numbers = []\n",
    "while sum(numbers) <= 100:\n",
    "    numbers.append(randint(0, 100))\n",
    "\n",
    "print(numbers, sum(numbers))\n"
   ]
  },
  {
   "attachments": {},
   "cell_type": "markdown",
   "metadata": {},
   "source": [
    "3. Create a while loop that repeatedly takes user input and appends it to a list, but only if the input is a unique string."
   ]
  },
  {
   "cell_type": "code",
   "execution_count": 7,
   "metadata": {},
   "outputs": [
    {
     "name": "stdout",
     "output_type": "stream",
     "text": [
      "['hello', 'how', 'are', 'you']\n"
     ]
    }
   ],
   "source": [
    "numbers = []\n",
    "number = input(\"Enter your input: \")\n",
    "while number not in numbers:\n",
    "    numbers.append(number)\n",
    "    number = input(\"Enter your input: \")\n",
    "\n",
    "print(numbers)\n"
   ]
  },
  {
   "attachments": {},
   "cell_type": "markdown",
   "metadata": {},
   "source": [
    "4. Create a while loop that repeatedly takes user input and appends it to a list, but only if the input is a number greater than 10."
   ]
  },
  {
   "cell_type": "code",
   "execution_count": 13,
   "metadata": {},
   "outputs": [
    {
     "name": "stdout",
     "output_type": "stream",
     "text": [
      "['34', '56', '78']\n"
     ]
    }
   ],
   "source": [
    "numbers = []\n",
    "number = input(\"Enter your input: \")\n",
    "try:\n",
    "    while int(number) > 10:\n",
    "        numbers.append(number)\n",
    "        number = input(\"Enter your input: \")\n",
    "except:\n",
    "    ValueError(print(\"Sorry, we need a number > 10.  Your input does not satisfy.\"))\n",
    "\n",
    "print(numbers)\n"
   ]
  },
  {
   "attachments": {},
   "cell_type": "markdown",
   "metadata": {},
   "source": [
    "5. Create a while loop that repeatedly takes user input and keeps track of the highest number entered until the user enters \"done\"."
   ]
  },
  {
   "cell_type": "code",
   "execution_count": 8,
   "metadata": {},
   "outputs": [
    {
     "name": "stdout",
     "output_type": "stream",
     "text": [
      "The highest number entered is: 8\n",
      "The highest number entered is: 8\n",
      "The highest number entered is: 8\n",
      "The highest number entered is: 8\n",
      "The highest number entered is: 9\n"
     ]
    }
   ],
   "source": [
    "number = input(\"Enter a number: \")\n",
    "highest = number\n",
    "\n",
    "while number != \"done\":\n",
    "    if float(number) > float(highest):\n",
    "        highest = number\n",
    "    print(f\"The highest number entered is: {highest}\")\n",
    "    number = input(\"Enter a number: \")\n",
    "        "
   ]
  }
 ],
 "metadata": {
  "kernelspec": {
   "display_name": "venv",
   "language": "python",
   "name": "python3"
  },
  "language_info": {
   "codemirror_mode": {
    "name": "ipython",
    "version": 3
   },
   "file_extension": ".py",
   "mimetype": "text/x-python",
   "name": "python",
   "nbconvert_exporter": "python",
   "pygments_lexer": "ipython3",
   "version": "3.10.2"
  },
  "orig_nbformat": 4
 },
 "nbformat": 4,
 "nbformat_minor": 2
}
