{
 "cells": [
  {
   "attachments": {},
   "cell_type": "markdown",
   "metadata": {},
   "source": [
    "1. Create a for loop that iterates through a list of strings and prints each string in uppercase."
   ]
  },
  {
   "cell_type": "code",
   "execution_count": 4,
   "metadata": {},
   "outputs": [
    {
     "name": "stdout",
     "output_type": "stream",
     "text": [
      "EVENT\n",
      "INDEPENDENCE\n",
      "METHOD\n",
      "MENU\n",
      "TONGUE\n",
      "NATURE\n",
      "ARMY\n",
      "MAP\n",
      "BASEBALL\n",
      "MANAGER\n",
      "COOKIE\n",
      "APPEARANCE\n",
      "UNION\n",
      "MARRIAGE\n",
      "PHYSICS\n",
      "FOOD\n",
      "APPLE\n",
      "MALL\n",
      "ANALYSIS\n",
      "DEBT\n",
      "DIRT\n",
      "SPEAKER\n",
      "PRESENCE\n",
      "ACTIVITY\n",
      "BUYER\n",
      "DRAWER\n",
      "ENERGY\n",
      "PREFERENCE\n"
     ]
    }
   ],
   "source": [
    "strings = ['event', 'independence', 'method', 'menu', 'tongue', 'nature', 'army',\n",
    "         'map', 'baseball', 'manager', 'cookie', 'appearance', 'union', 'marriage',\n",
    "         'physics', 'food', 'apple', 'mall', 'analysis', 'debt', 'dirt', 'speaker',\n",
    "         'presence', 'activity', 'buyer', 'drawer', 'energy', 'preference']\n",
    "\n",
    "for string in strings:\n",
    "    print(string.upper())\n",
    "    "
   ]
  },
  {
   "attachments": {},
   "cell_type": "markdown",
   "metadata": {},
   "source": [
    "2. Create a for loop that iterates through a list of numbers and prints the square of each number."
   ]
  },
  {
   "cell_type": "code",
   "execution_count": 7,
   "metadata": {},
   "outputs": [
    {
     "name": "stdout",
     "output_type": "stream",
     "text": [
      "2601\n",
      "8836\n",
      "5776\n",
      "8281\n",
      "2209\n",
      "2601\n",
      "2601\n",
      "2916\n",
      "441\n",
      "8281\n"
     ]
    }
   ],
   "source": [
    "numbers = [51, 94, 76, 91, 47, 51, 51, 54, 21, 91]\n",
    "for number in numbers:\n",
    "    print(number ** 2)\n"
   ]
  },
  {
   "attachments": {},
   "cell_type": "markdown",
   "metadata": {},
   "source": [
    "3. Create a for loop that iterates through a list of dictionaries and prints the value of a specified key for each dictionary."
   ]
  },
  {
   "cell_type": "code",
   "execution_count": 9,
   "metadata": {},
   "outputs": [
    {
     "name": "stdout",
     "output_type": "stream",
     "text": [
      "four\n",
      "martijn\n",
      "spam\n"
     ]
    }
   ],
   "source": [
    "dicts = [{1: 'one', 2: 'two', 3: 'three', 4: 'four'},\n",
    "         {1: 'jack', 2: 'sjoerd', 3: 'sergio', 4: 'martijn'},\n",
    "         {1: 'eggs', 2: 'sausage', 3: 'bacon', 4: 'spam'}]\n",
    "for dict in dicts:\n",
    "    print(dict[4])"
   ]
  },
  {
   "attachments": {},
   "cell_type": "markdown",
   "metadata": {},
   "source": [
    "4. Create a for loop that iterates through a list of numbers and prints the largest number in the list."
   ]
  },
  {
   "cell_type": "code",
   "execution_count": 16,
   "metadata": {},
   "outputs": [
    {
     "name": "stdout",
     "output_type": "stream",
     "text": [
      "93\n"
     ]
    }
   ],
   "source": [
    "numbers = [51, 90, 76, 93, 47, 51, 51, 54, 21, 91]\n",
    "largest = 0\n",
    "for number in numbers:\n",
    "    if number > largest:\n",
    "        largest = number\n",
    "print(largest)\n"
   ]
  },
  {
   "attachments": {},
   "cell_type": "markdown",
   "metadata": {},
   "source": [
    "5. Create a for loop that iterates through a list of lists and prints the sum of the elements in each sub-list."
   ]
  },
  {
   "cell_type": "code",
   "execution_count": 11,
   "metadata": {},
   "outputs": [
    {
     "name": "stdout",
     "output_type": "stream",
     "text": [
      "280\n",
      "525\n",
      "320\n"
     ]
    }
   ],
   "source": [
    "lists = [[62, 20, 12, 4, 21, 60, 29, 53, 5, 14],\n",
    "[8, 16, 60, 78, 96, 78, 3, 37, 70, 79,],\n",
    "[16, 47, 53, 30, 3, 73, 16, 43, 20, 19]]\n",
    "for list in lists:\n",
    "    print(sum(list))"
   ]
  }
 ],
 "metadata": {
  "kernelspec": {
   "display_name": "venv",
   "language": "python",
   "name": "python3"
  },
  "language_info": {
   "codemirror_mode": {
    "name": "ipython",
    "version": 3
   },
   "file_extension": ".py",
   "mimetype": "text/x-python",
   "name": "python",
   "nbconvert_exporter": "python",
   "pygments_lexer": "ipython3",
   "version": "3.10.2"
  },
  "orig_nbformat": 4
 },
 "nbformat": 4,
 "nbformat_minor": 2
}
