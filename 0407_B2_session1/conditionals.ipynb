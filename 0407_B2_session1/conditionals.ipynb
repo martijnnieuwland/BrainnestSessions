{
 "cells": [
  {
   "attachments": {},
   "cell_type": "markdown",
   "metadata": {},
   "source": [
    "1. Write a program that prompts the user for a string and checks whether the string is a palindrome (i.e., the string reads the same forward and backward)."
   ]
  },
  {
   "cell_type": "code",
   "execution_count": 4,
   "metadata": {},
   "outputs": [
    {
     "name": "stdout",
     "output_type": "stream",
     "text": [
      "Your text is a palindrome! :-)\n"
     ]
    }
   ],
   "source": [
    "text = input(\"Please enter some text: \")\n",
    "textReversed = text[::-1]\n",
    "\n",
    "if textReversed == text:\n",
    "    print(\"Your text is a palindrome! :-)\")\n",
    "else:\n",
    "    print(\"Your text is not a palindrome. :-(\")\n"
   ]
  },
  {
   "attachments": {},
   "cell_type": "markdown",
   "metadata": {},
   "source": [
    "2. Write a program that takes in a list of integers and returns the sum of all even numbers in the list."
   ]
  },
  {
   "cell_type": "code",
   "execution_count": 7,
   "metadata": {},
   "outputs": [
    {
     "name": "stdout",
     "output_type": "stream",
     "text": [
      "28\n"
     ]
    }
   ],
   "source": [
    "integers = [1, 2, 3, 4, 5, 6, 7, 8, 9]\n",
    "total = 0\n",
    "\n",
    "for i in integers:\n",
    "    if i % 2 == 0:\n",
    "        total += i\n",
    "\n",
    "print(total)\n"
   ]
  },
  {
   "attachments": {},
   "cell_type": "markdown",
   "metadata": {},
   "source": [
    "3. Write a program that prompts the user for their age and checks whether they are old enough to vote (i.e., 18 years old or older)."
   ]
  },
  {
   "cell_type": "code",
   "execution_count": 9,
   "metadata": {},
   "outputs": [
    {
     "name": "stdout",
     "output_type": "stream",
     "text": [
      "You can vote!\n"
     ]
    }
   ],
   "source": [
    "age = int(input(\"Hello, what is your age? \"))\n",
    "\n",
    "print(\"You can vote!\") if age >= 18 else print(\"Sorry, you can't vote.\")\n"
   ]
  },
  {
   "attachments": {},
   "cell_type": "markdown",
   "metadata": {},
   "source": [
    "4. Write a program that takes in a list of integers and returns the largest number in the list that is also divisible by 3."
   ]
  },
  {
   "cell_type": "code",
   "execution_count": 13,
   "metadata": {},
   "outputs": [
    {
     "name": "stdout",
     "output_type": "stream",
     "text": [
      "12\n"
     ]
    }
   ],
   "source": [
    "integers = [1, 2, 3, 4, 5, 6, 7, 8, 9, 10, 12]\n",
    "factor3 = (i for i in integers if i % 3 == 0)\n",
    "\n",
    "print(max(factor3))"
   ]
  },
  {
   "attachments": {},
   "cell_type": "markdown",
   "metadata": {},
   "source": [
    "5. Write a program that prompts the user for a number and checks whether the number is a prime number (i.e., only divisible by 1 and itself)."
   ]
  },
  {
   "cell_type": "code",
   "execution_count": 54,
   "metadata": {},
   "outputs": [
    {
     "name": "stdout",
     "output_type": "stream",
     "text": [
      "No, this is not a prime number.\n"
     ]
    }
   ],
   "source": [
    "number = int(input(\"Please enter a whole number: \"))\n",
    "prime = True\n",
    "\n",
    "for i in range(number):\n",
    "    if i == 0 or i == 1:\n",
    "        pass\n",
    "    elif number % i == 0:\n",
    "        prime = False\n",
    "        break\n",
    "        \n",
    "if prime == False:\n",
    "    print(\"No, this is not a prime number.\")\n",
    "else:\n",
    "    print(\"Yes, this is a prime number!\")\n"
   ]
  }
 ],
 "metadata": {
  "kernelspec": {
   "display_name": "Python 3",
   "language": "python",
   "name": "python3"
  },
  "language_info": {
   "name": "python",
   "version": "3.10.2"
  },
  "orig_nbformat": 4,
  "vscode": {
   "interpreter": {
    "hash": "f7a5be651532581cb44625d52e18aa1d390cab54bc6b51099d8c30bea9b68219"
   }
  }
 },
 "nbformat": 4,
 "nbformat_minor": 2
}
