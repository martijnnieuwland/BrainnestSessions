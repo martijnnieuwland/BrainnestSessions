{
 "cells": [
  {
   "attachments": {},
   "cell_type": "markdown",
   "metadata": {},
   "source": [
    "1. Write a function that takes a list of integers as an argument, and returns the sum of the integers. Use a try-except block to catch any ValueError exceptions that may be raised when attempting to convert a string to an integer."
   ]
  },
  {
   "cell_type": "code",
   "execution_count": 85,
   "metadata": {},
   "outputs": [
    {
     "name": "stdout",
     "output_type": "stream",
     "text": [
      "x is not an integer.\n",
      "The sum of all integers is: 125\n"
     ]
    }
   ],
   "source": [
    "data = [1, 2, 3, 4, \"5\", \"10\", 'x', 100]\n",
    "\n",
    "def sumInt(l):\n",
    "    total = 0\n",
    "\n",
    "    for i in l:\n",
    "        try:\n",
    "            total += int(i)\n",
    "        except:\n",
    "            ValueError(print(f\"{i} is not an integer.\"))\n",
    "    print(f\"The sum of all integers is: {total}\")\n",
    "\n",
    "sumInt(data)"
   ]
  },
  {
   "attachments": {},
   "cell_type": "markdown",
   "metadata": {},
   "source": [
    "2. Write a function that takes a filename as an argument, and attempts to open the file. Use a try-except block to catch any FileNotFoundError exceptions that may be raised when attempting to open the file. If the file is successfully opened, the function should return the contents of the file."
   ]
  },
  {
   "cell_type": "code",
   "execution_count": 137,
   "metadata": {},
   "outputs": [
    {
     "name": "stdout",
     "output_type": "stream",
     "text": [
      "'''\n",
      "\n",
      "The hangman game is a word guessing game where the player is given a word and has to guess the letters that make up the word. \n",
      "\n",
      "The player is given a certain number of tries (no more than 6 wrong guesses are allowed) to guess the correct letters before the game is over.\n",
      "\n",
      "'''\n",
      "\n",
      "from random import randint\n",
      "\n",
      "\n",
      "\n",
      "words = ['knowledge','event','independence','signature','method','menu','tongue','republic','nature','enthusiasm','army','charity','map','boyfriend','argument',\n",
      "\n",
      "         'literature','introduction','baseball','manager','cookie','appearance','variety','union','variation','marriage','physics','tradition','presentation',\n",
      "\n",
      "         'food','apple','housing','secretary','penalty','mall','analysis','debt','dirt','departure','speaker','presence','situation','improvement','activity',\n",
      "\n",
      "         'buyer','reality','measurement','drawer','energy','apartment','preference']\n",
      "\n",
      "word = words[randint(0, 49)]\n",
      "\n",
      "tries = 6\n",
      "\n",
      "usedLetters = []\n",
      "\n",
      "\n",
      "\n",
      "print(word)\n",
      "\n",
      "\n",
      "\n",
      "while tries > 0:\n",
      "\n",
      "    print(f\"\"\"\n",
      "\n",
      "          You have {tries} tries left.\n",
      "\n",
      "          Used letters: {usedLetters}\n",
      "\n",
      "          Word: {word}\n",
      "\n",
      "          {input(\"Guess a letter: \")}\n",
      "\n",
      "          \"\"\")\n",
      "\n",
      "    tries -= 1\n",
      "\n",
      "\n",
      "\n",
      "# Output\n",
      "\n",
      "'''\n",
      "\n",
      "You have 6 tries left.                                                                                                                                           \n",
      "\n",
      "Used letters:                                                                                                                                                    \n",
      "\n",
      "Word: _ _ _ _                                                                                                                                                    \n",
      "\n",
      "Guess a letter: a \n",
      "\n",
      "\n",
      "\n",
      "You have 6 tries left.                                                                                                                                           \n",
      "\n",
      "Used letters: a                                                                                                                                                  \n",
      "\n",
      "Word: _ a _ a                                                                                                                                                    \n",
      "\n",
      "Guess a letter: j    \n",
      "\n",
      "\n",
      "\n",
      "You have 6 tries left.                                                                                                                                           \n",
      "\n",
      "Used letters: j a                                                                                                                                                \n",
      "\n",
      "Word: j a _ a                                                                                                                                                    \n",
      "\n",
      "Guess a letter: v                                                                                                                                                \n",
      "\n",
      "You guessed the word java !\n",
      "\n",
      "'''\n"
     ]
    }
   ],
   "source": [
    "filename = input(\"Please enter the path to the file to read:\\n\")\n",
    "\n",
    "def openFile(f):\n",
    "\n",
    "    try:\n",
    "        with open(f) as filein:\n",
    "            text = filein.readlines()\n",
    "            return text\n",
    "    except:\n",
    "        FileNotFoundError(print(f\"Sorry, your file '{f}' can not be found.\"))\n",
    "\n",
    "text = openFile(filename)\n",
    "for l in text:\n",
    "    print(l)\n"
   ]
  },
  {
   "attachments": {},
   "cell_type": "markdown",
   "metadata": {},
   "source": [
    "3. Write a function that takes a list of strings as an argument, and returns a new list containing only the strings that can be successfully converted to a float. Use a try-except block to catch any ValueError exceptions that may be raised when attempting to convert a string to a float."
   ]
  },
  {
   "cell_type": "code",
   "execution_count": 101,
   "metadata": {},
   "outputs": [
    {
     "name": "stdout",
     "output_type": "stream",
     "text": [
      "'string' can not be converted to a float.\n",
      "'word' can not be converted to a float.\n",
      "'Python' can not be converted to a float.\n",
      "'spam' can not be converted to a float.\n"
     ]
    },
    {
     "data": {
      "text/plain": [
       "'Your list of floats: [1.01, 2.01, 3.01, 1977.0].'"
      ]
     },
     "execution_count": 101,
     "metadata": {},
     "output_type": "execute_result"
    }
   ],
   "source": [
    "strings = ['string', '1.01', 'word', '2.01', 'Python', '3.01', 'spam', '1977']\n",
    "\n",
    "def floats(l):\n",
    "    floats = []\n",
    "    \n",
    "    for s in l:\n",
    "        try:\n",
    "            floats.append(float(s))\n",
    "        except:\n",
    "            ValueError(print(f\"'{s}' can not be converted to a float.\"))\n",
    "    \n",
    "    return f\"Your list of floats: {floats}.\"\n",
    "\n",
    "floats(strings)\n"
   ]
  },
  {
   "attachments": {},
   "cell_type": "markdown",
   "metadata": {},
   "source": [
    "4. Write a function that takes a list of dictionaries as an argument, and returns the value of a specified key from each dictionary. Use a try-except block to catch any KeyError exceptions that may be raised when attempting to access a key that does not exist in a dictionary."
   ]
  },
  {
   "cell_type": "code",
   "execution_count": 1,
   "metadata": {},
   "outputs": [
    {
     "data": {
      "text/plain": [
       "['Key 4 does not exist in this dictionary',\n",
       " 'Key 4 does not exist in this dictionary',\n",
       " 'spam']"
      ]
     },
     "execution_count": 1,
     "metadata": {},
     "output_type": "execute_result"
    }
   ],
   "source": [
    "dicts = [{1: 'one', 2: 'two', 3: 'three'},\n",
    "         {1: 'jack', 2: 'sjoerd'},\n",
    "         {1: 'eggs', 2: 'sausage', 3: 'bacon', 4: 'spam'}]\n",
    "\n",
    "def dicVals(d):\n",
    "    key = int(input(\"What is the key of the values you're looking for? \"))\n",
    "    vals = []\n",
    "    for dict in range(len(d)):\n",
    "        try:\n",
    "            vals.append(d[dict][key])\n",
    "        except:\n",
    "            KeyError(vals.append(f\"Key {key} does not exist in this dictionary\"))\n",
    "    return vals\n",
    "\n",
    "dicVals(dicts)\n"
   ]
  },
  {
   "attachments": {},
   "cell_type": "markdown",
   "metadata": {},
   "source": [
    "5. Write a function that takes a list of integers as an argument, and returns the largest integer in the list. Use a try-except block to catch any ValueError exceptions that may be raised when attempting to compare elements that are not integers."
   ]
  },
  {
   "cell_type": "code",
   "execution_count": 124,
   "metadata": {},
   "outputs": [
    {
     "name": "stdout",
     "output_type": "stream",
     "text": [
      "Value 'x' from your list is not an integer.\n"
     ]
    },
    {
     "data": {
      "text/plain": [
       "'The largest integer is: 9'"
      ]
     },
     "execution_count": 124,
     "metadata": {},
     "output_type": "execute_result"
    }
   ],
   "source": [
    "ints = [1, 2, 3, 4, 5, 6, 7, 8, 9, 10.9, 'x']\n",
    "\n",
    "def getMaxInt(i):\n",
    "    for n in i:\n",
    "        try:\n",
    "            integers = (n for n in i if type(n) == int)\n",
    "            int(n)\n",
    "        except:\n",
    "            TypeError(print(f\"Value '{n}' from your list is not an integer.\"))\n",
    "            return f\"The largest integer is: {max(integers)}\"\n",
    "\n",
    "getMaxInt(ints)"
   ]
  }
 ],
 "metadata": {
  "kernelspec": {
   "display_name": "Python 3",
   "language": "python",
   "name": "python3"
  },
  "language_info": {
   "codemirror_mode": {
    "name": "ipython",
    "version": 3
   },
   "file_extension": ".py",
   "mimetype": "text/x-python",
   "name": "python",
   "nbconvert_exporter": "python",
   "pygments_lexer": "ipython3",
   "version": "3.10.2"
  },
  "orig_nbformat": 4,
  "vscode": {
   "interpreter": {
    "hash": "f7a5be651532581cb44625d52e18aa1d390cab54bc6b51099d8c30bea9b68219"
   }
  }
 },
 "nbformat": 4,
 "nbformat_minor": 2
}
