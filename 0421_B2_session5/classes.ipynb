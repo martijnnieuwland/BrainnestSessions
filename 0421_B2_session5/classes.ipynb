{
 "cells": [
  {
   "attachments": {},
   "cell_type": "markdown",
   "metadata": {},
   "source": [
    "1. Create a class called Rectangle that has attributes width and height. Add methods area and perimeter that calculate the area and perimeter of the rectangle, respectively."
   ]
  },
  {
   "cell_type": "code",
   "execution_count": 17,
   "metadata": {},
   "outputs": [
    {
     "name": "stdout",
     "output_type": "stream",
     "text": [
      "3\n",
      "4\n",
      "12\n",
      "14\n"
     ]
    }
   ],
   "source": [
    "class Rectangle:\n",
    "    def __init__(self, width, height):\n",
    "        self.width = width\n",
    "        self.height = height\n",
    "        \n",
    "    def area(self):\n",
    "        area = self.width * self.height\n",
    "        return area\n",
    "        \n",
    "    def perimeter(self):\n",
    "        perimeter = 2 * self.width + 2 * self.height\n",
    "        return perimeter\n",
    "\n",
    "\n",
    "r = Rectangle(3, 4)\n",
    "\n",
    "print(r.width)\n",
    "print(r.height)\n",
    "print(r.area())\n",
    "print(r.perimeter())\n",
    "\n"
   ]
  },
  {
   "attachments": {},
   "cell_type": "markdown",
   "metadata": {},
   "source": [
    "2. Create a class called Circle that has attribute radius. Add methods area and circumference that calculate the area and circumference of the circle, respectively."
   ]
  },
  {
   "cell_type": "code",
   "execution_count": 21,
   "metadata": {},
   "outputs": [
    {
     "name": "stdout",
     "output_type": "stream",
     "text": [
      "50\n",
      "7853.981633974483\n",
      "314.1592653589793\n"
     ]
    }
   ],
   "source": [
    "from math import pi\n",
    "\n",
    "class Circle:\n",
    "    def __init__(self, radius) -> None:\n",
    "        self.radius = radius\n",
    "\n",
    "    def area(self):\n",
    "        area = pi * self.radius ** 2\n",
    "        return area\n",
    "    \n",
    "    def circumference(self):\n",
    "        circumference = pi * self.radius * 2\n",
    "        return circumference\n",
    "    \n",
    "    \n",
    "c = Circle(50)\n",
    "\n",
    "print(c.radius)\n",
    "print(c.area())\n",
    "print(c.circumference())"
   ]
  },
  {
   "attachments": {},
   "cell_type": "markdown",
   "metadata": {},
   "source": [
    "3. Create a class called Car that has attributes make, model, and year. Add methods start and stop that simulate starting and stopping the car, respectively."
   ]
  },
  {
   "cell_type": "code",
   "execution_count": 25,
   "metadata": {},
   "outputs": [
    {
     "name": "stdout",
     "output_type": "stream",
     "text": [
      "('Volvo', 'XC90', 2012) has started\n",
      "('Polestar', 4, 2023) has stopped\n"
     ]
    }
   ],
   "source": [
    "class Car:\n",
    "    def __init__(self, make, model, year) -> None:\n",
    "        self.make = make\n",
    "        self.model = model\n",
    "        self.year = year\n",
    "        \n",
    "    def start(self):\n",
    "        return f\"{self.make, self.model, self.year} has started\"\n",
    "    \n",
    "    def stop(self):\n",
    "        return f\"{self.make, self.model, self.year} has stopped\"\n",
    "\n",
    "    \n",
    "car1 = Car(\"Volvo\", \"XC90\", 2012)\n",
    "car2 = Car(\"Polestar\", 4, 2023)\n",
    "\n",
    "print(car1.start())\n",
    "print(car2.stop())\n",
    "\n",
    "\n",
    "        "
   ]
  },
  {
   "attachments": {},
   "cell_type": "markdown",
   "metadata": {},
   "source": [
    "4. Create a class called Dice that has attribute sides (the number of sides on the dice). Add a method roll that generates a random number between 1 and the number of sides on the dice."
   ]
  },
  {
   "cell_type": "code",
   "execution_count": 34,
   "metadata": {},
   "outputs": [
    {
     "name": "stdout",
     "output_type": "stream",
     "text": [
      "1\n"
     ]
    }
   ],
   "source": [
    "from random import randint\n",
    "\n",
    "class Dice:\n",
    "    def __init__(self, sides) -> None:\n",
    "        self.sides = sides\n",
    "        \n",
    "    def roll(self):\n",
    "        roll = randint(1, self.sides)\n",
    "        return roll\n",
    "    \n",
    "    \n",
    "d = Dice(6)\n",
    "\n",
    "print(d.roll())\n"
   ]
  },
  {
   "attachments": {},
   "cell_type": "markdown",
   "metadata": {},
   "source": [
    "5. Create a class called Temperature that has attribute celsius (a temperature in degrees Celsius). Add methods to_fahrenheit and to_kelvin that convert the temperature to degrees Fahrenheit and Kelvin, respectively."
   ]
  },
  {
   "cell_type": "code",
   "execution_count": 37,
   "metadata": {},
   "outputs": [
    {
     "name": "stdout",
     "output_type": "stream",
     "text": [
      "68.0\n",
      "293.15\n"
     ]
    }
   ],
   "source": [
    "class Temperature:\n",
    "    def __init__(self, celsius) -> None:\n",
    "        self.celsius = celsius\n",
    "        \n",
    "    def to_fahrenheit(self):\n",
    "        fahrenheit = (self.celsius * 1.8) + 32\n",
    "        return fahrenheit\n",
    "    \n",
    "    def to_kelvin(self):\n",
    "        kelvin = self.celsius + 273.15\n",
    "        return kelvin\n",
    "\n",
    "\n",
    "t = Temperature(20)\n",
    "print(t.to_fahrenheit())\n",
    "print(t.to_kelvin())\n",
    "\n"
   ]
  },
  {
   "attachments": {},
   "cell_type": "markdown",
   "metadata": {},
   "source": [
    "6. Create a class called Book that has attributes title, author, and publication_year. Add a method get_age that calculates how many years ago the book was published."
   ]
  },
  {
   "cell_type": "code",
   "execution_count": 43,
   "metadata": {},
   "outputs": [
    {
     "name": "stdout",
     "output_type": "stream",
     "text": [
      "'War and Peace' by Leo Tolstoy is 154 years old!\n"
     ]
    }
   ],
   "source": [
    "from datetime import date\n",
    "\n",
    "class Book:\n",
    "    def __init__(self, title, author, publication_year) -> None:\n",
    "        self.title = title\n",
    "        self.author = author\n",
    "        self.publication_year = publication_year\n",
    "        \n",
    "    def get_age(self):\n",
    "        age = date.today().year - self.publication_year\n",
    "        return age\n",
    "\n",
    "\n",
    "b = Book(\"War and Peace\", \"Leo Tolstoy\", 1869)\n",
    "\n",
    "print(f\"'{b.title}' by {b.author} is {b.get_age()} years old!\")\n",
    "\n"
   ]
  },
  {
   "attachments": {},
   "cell_type": "markdown",
   "metadata": {},
   "source": [
    "7. Create a class called Rectangle that has attributes width and height. Add methods __str__ and __repr__ that return a string representation of the rectangle object."
   ]
  },
  {
   "cell_type": "code",
   "execution_count": 47,
   "metadata": {},
   "outputs": [
    {
     "name": "stdout",
     "output_type": "stream",
     "text": [
      "This rectangle has a width of 4 and a height of 6\n",
      "Rectangle(4, 6)\n"
     ]
    }
   ],
   "source": [
    "class Rectangle:\n",
    "    def __init__(self, width, height) -> None:\n",
    "        self.width = width\n",
    "        self.height = height\n",
    "        \n",
    "    def __str__(self) -> str:\n",
    "        return f\"This rectangle has a width of {self.width} and a height of {self.height}\"\n",
    "        \n",
    "    def __repr__(self) -> str:\n",
    "        return f\"Rectangle({self.width}, {self.height})\"\n",
    "    \n",
    "r = Rectangle(4, 6)\n",
    "    \n",
    "print(r.__str__())\n",
    "print(r.__repr__())\n",
    "    \n",
    "    "
   ]
  }
 ],
 "metadata": {
  "kernelspec": {
   "display_name": "venv",
   "language": "python",
   "name": "python3"
  },
  "language_info": {
   "codemirror_mode": {
    "name": "ipython",
    "version": 3
   },
   "file_extension": ".py",
   "mimetype": "text/x-python",
   "name": "python",
   "nbconvert_exporter": "python",
   "pygments_lexer": "ipython3",
   "version": "3.10.2"
  },
  "orig_nbformat": 4
 },
 "nbformat": 4,
 "nbformat_minor": 2
}
