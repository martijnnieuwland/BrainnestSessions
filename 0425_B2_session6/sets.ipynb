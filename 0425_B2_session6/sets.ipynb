{
 "cells": [
  {
   "attachments": {},
   "cell_type": "markdown",
   "metadata": {},
   "source": [
    "1. Given two sets A and B, write a function to return the symmetric difference between them as a new set. The symmetric difference is the set of elements that are in either A or B, but not in both."
   ]
  },
  {
   "cell_type": "code",
   "execution_count": 45,
   "metadata": {},
   "outputs": [
    {
     "name": "stdout",
     "output_type": "stream",
     "text": [
      "{1, 2, 3, 6, 7, 8}\n"
     ]
    }
   ],
   "source": [
    "A = {1, 2, 3, 4, 5}\n",
    "B = {4, 5, 6, 7, 8}\n",
    "\n",
    "def sym_dif(a, b):\n",
    "    c = a ^ b\n",
    "    return c\n",
    "\n",
    "print(sym_dif(A, B)) # {1, 2, 3, 6, 7, 8}\n"
   ]
  },
  {
   "attachments": {},
   "cell_type": "markdown",
   "metadata": {},
   "source": [
    "2. Given a list of numbers, write a function to return a set of all prime numbers from the list."
   ]
  },
  {
   "cell_type": "code",
   "execution_count": 12,
   "metadata": {},
   "outputs": [
    {
     "name": "stdout",
     "output_type": "stream",
     "text": [
      "{9, 3, 5, 7}\n"
     ]
    }
   ],
   "source": [
    "numbers = [1, 2, 3, 4, 5, 6, 7, 8, 9, 0, 2, 3, 5, 7]\n",
    "\n",
    "def prime_set(l):\n",
    "    primes = set()\n",
    "    for i in l:\n",
    "        for p in range(2, i):\n",
    "            if i % p == 0:\n",
    "                break\n",
    "            else:\n",
    "                primes.add(i)\n",
    "    return primes\n",
    "\n",
    "primes = prime_set(numbers)\n",
    "\n",
    "print(primes) # {9, 3, 5, 7}\n",
    "\n",
    "        "
   ]
  },
  {
   "attachments": {},
   "cell_type": "markdown",
   "metadata": {},
   "source": [
    "3. Given a list of words, write a function to return a set of all anagrams in the list."
   ]
  },
  {
   "cell_type": "code",
   "execution_count": 44,
   "metadata": {},
   "outputs": [
    {
     "name": "stdout",
     "output_type": "stream",
     "text": [
      "{('restful', 'fluster'), ('cheater', 'teacher'), ('Santa', 'Satan')}\n"
     ]
    }
   ],
   "source": [
    "words = ['An', 'anagram', 'is', 'a', 'word', 'or', 'phrase', 'formed', 'by', 'rearranging', 'the', 'letters', \n",
    "         'of', 'a', 'different', 'word', 'or', 'phrase', 'restful', 'fluster', 'cheater', 'teacher', 'Santa', 'Satan']\n",
    "\n",
    "def findanagrams(words):\n",
    "    anagrams = set()\n",
    "    for word in words:\n",
    "        for anagram in words:\n",
    "            if word == anagram:\n",
    "                continue\n",
    "            if (anagram, word) in anagrams:\n",
    "                continue\n",
    "            if {c for c in word} == {c for c in anagram}:\n",
    "                anagrams.add((word, anagram))\n",
    "\n",
    "    return anagrams\n",
    "\n",
    "anagram_pairs = findanagrams(words)\n",
    "\n",
    "print(anagram_pairs) # {('restful', 'fluster'), ('cheater', 'teacher'), ('Santa', 'Satan')}\n"
   ]
  },
  {
   "attachments": {},
   "cell_type": "markdown",
   "metadata": {},
   "source": [
    "4. Given a list of sets, write a function to return the Cartesian product of all sets in the list."
   ]
  },
  {
   "cell_type": "code",
   "execution_count": 50,
   "metadata": {},
   "outputs": [
    {
     "name": "stdout",
     "output_type": "stream",
     "text": [
      "{'K', 'Diamonds'}\n",
      "{'K', 'Clubs'}\n",
      "{'K', 'Spades'}\n",
      "{'K', 'Hearts'}\n",
      "{'Q', 'Diamonds'}\n",
      "{'Q', 'Clubs'}\n",
      "{'Q', 'Spades'}\n",
      "{'Q', 'Hearts'}\n",
      "{'3', 'Diamonds'}\n",
      "{'3', 'Clubs'}\n",
      "{'3', 'Spades'}\n",
      "{'3', 'Hearts'}\n",
      "{'Diamonds', 'J'}\n",
      "{'Clubs', 'J'}\n",
      "{'Spades', 'J'}\n",
      "{'Hearts', 'J'}\n",
      "{'4', 'Diamonds'}\n",
      "{'4', 'Clubs'}\n",
      "{'4', 'Spades'}\n",
      "{'4', 'Hearts'}\n",
      "{'6', 'Diamonds'}\n",
      "{'6', 'Clubs'}\n",
      "{'6', 'Spades'}\n",
      "{'6', 'Hearts'}\n",
      "{'Diamonds', '2'}\n",
      "{'2', 'Clubs'}\n",
      "{'2', 'Spades'}\n",
      "{'2', 'Hearts'}\n",
      "{'10', 'Diamonds'}\n",
      "{'10', 'Clubs'}\n",
      "{'10', 'Spades'}\n",
      "{'10', 'Hearts'}\n",
      "{'7', 'Diamonds'}\n",
      "{'7', 'Clubs'}\n",
      "{'7', 'Spades'}\n",
      "{'7', 'Hearts'}\n",
      "{'8', 'Diamonds'}\n",
      "{'8', 'Clubs'}\n",
      "{'8', 'Spades'}\n",
      "{'8', 'Hearts'}\n",
      "{'5', 'Diamonds'}\n",
      "{'5', 'Clubs'}\n",
      "{'5', 'Spades'}\n",
      "{'5', 'Hearts'}\n",
      "{'Diamonds', 'A'}\n",
      "{'A', 'Clubs'}\n",
      "{'A', 'Spades'}\n",
      "{'A', 'Hearts'}\n",
      "{'Diamonds', '9'}\n",
      "{'9', 'Clubs'}\n",
      "{'9', 'Spades'}\n",
      "{'9', 'Hearts'}\n",
      "52\n"
     ]
    }
   ],
   "source": [
    "cards = [{\"A\", \"K\", \"Q\", \"J\", \"10\", \"9\", \"8\", \"7\", \"6\", \"5\", \"4\", \"3\", \"2\"}, {\"Spades\", \"Hearts\", \"Diamonds\", \"Clubs\"}]\n",
    "\n",
    "def deck(cards):\n",
    "    deck = []\n",
    "    for rank in cards[0]:\n",
    "        for suit in cards[1]:\n",
    "            deck.append({rank, suit})\n",
    "            \n",
    "    return deck\n",
    "\n",
    "new_deck = deck(cards)\n",
    "\n",
    "for card in new_deck:\n",
    "    print(card)\n",
    "print(len(new_deck)) # 52\n"
   ]
  }
 ],
 "metadata": {
  "kernelspec": {
   "display_name": "Python 3",
   "language": "python",
   "name": "python3"
  },
  "language_info": {
   "codemirror_mode": {
    "name": "ipython",
    "version": 3
   },
   "file_extension": ".py",
   "mimetype": "text/x-python",
   "name": "python",
   "nbconvert_exporter": "python",
   "pygments_lexer": "ipython3",
   "version": "3.10.2"
  },
  "orig_nbformat": 4,
  "vscode": {
   "interpreter": {
    "hash": "f7a5be651532581cb44625d52e18aa1d390cab54bc6b51099d8c30bea9b68219"
   }
  }
 },
 "nbformat": 4,
 "nbformat_minor": 2
}
