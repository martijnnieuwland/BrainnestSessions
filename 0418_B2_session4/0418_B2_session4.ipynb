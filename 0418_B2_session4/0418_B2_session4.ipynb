{
 "cells": [
  {
   "cell_type": "code",
   "execution_count": 77,
   "metadata": {},
   "outputs": [
    {
     "name": "stdout",
     "output_type": "stream",
     "text": [
      "fox brown quick the\n"
     ]
    }
   ],
   "source": [
    "reverse_words = lambda s: ' '.join(reversed(s.split()))\n",
    "\n",
    "s = \"the quick brown fox\"\n",
    "reversed_s = reverse_words(s)\n",
    "\n",
    "print(reversed_s) # fox brown quick the"
   ]
  },
  {
   "cell_type": "code",
   "execution_count": 71,
   "metadata": {},
   "outputs": [
    {
     "name": "stdout",
     "output_type": "stream",
     "text": [
      "[2, 4, 6]\n",
      "fox brown quick the\n"
     ]
    }
   ],
   "source": [
    "max_list = lambda list1, list2: [max(list1[i], list2[i]) for i in range(len(list1))]\n",
    "print(max_list([1, 3, 5], [2, 4, 6]))\n",
    "reverse_string = lambda string: \" \".join(string.split()[::-1])\n",
    "print(reverse_string(\"the quick brown fox\"))"
   ]
  },
  {
   "attachments": {},
   "cell_type": "markdown",
   "metadata": {},
   "source": [
    "Write a lambda function that takes two lists of integers and returns a new list with the maximum value for each index of the two lists. For example, given [1, 3, 5] and [2, 4, 6], the function should return [2, 4, 6]."
   ]
  },
  {
   "cell_type": "code",
   "execution_count": 70,
   "metadata": {},
   "outputs": [
    {
     "name": "stdout",
     "output_type": "stream",
     "text": [
      "[2, 4, 6]\n"
     ]
    }
   ],
   "source": [
    "list1 = [1, 3, 5]\n",
    "list2 = [2, 4, 6]\n",
    "\n",
    "maxlist = lambda a, b: a if max(a) > max(b) else b\n",
    "\n",
    "print(maxlist(list1, list2)) # [2, 4, 6]\n"
   ]
  },
  {
   "attachments": {},
   "cell_type": "markdown",
   "metadata": {},
   "source": [
    "3. Write a lambda function that takes a string as input and returns True if the string is a palindrome (i.e., reads the same forward and backward), and False otherwise."
   ]
  },
  {
   "cell_type": "code",
   "execution_count": 69,
   "metadata": {},
   "outputs": [
    {
     "name": "stdout",
     "output_type": "stream",
     "text": [
      "True\n"
     ]
    }
   ],
   "source": [
    "reverse_string = lambda s: ' '.join(reversed(s.split())) == s\n",
    "\n",
    "s = \"madam\"\n",
    "reversed_s = reverse_string(s)\n",
    "\n",
    "print(reversed_s) # True\n"
   ]
  },
  {
   "attachments": {},
   "cell_type": "markdown",
   "metadata": {},
   "source": [
    "Write a generator function that takes a list of numbers as input and yields only the even numbers."
   ]
  },
  {
   "cell_type": "code",
   "execution_count": 68,
   "metadata": {},
   "outputs": [
    {
     "name": "stdout",
     "output_type": "stream",
     "text": [
      "2\n",
      "4\n",
      "6\n",
      "8\n"
     ]
    }
   ],
   "source": [
    "ints = [1, 2, 3, 4, 5, 6, 7, 8, 9]\n",
    "\n",
    "def evens(iter):\n",
    "    for i in ints:\n",
    "        if i % 2 == 0:\n",
    "            yield i\n",
    "            continue\n",
    "        else:\n",
    "            pass\n",
    "\n",
    "for i in evens(ints):\n",
    "    print(i)\n",
    "    "
   ]
  },
  {
   "attachments": {},
   "cell_type": "markdown",
   "metadata": {},
   "source": [
    "Write a generator function that takes a string as input and yields all the words in the string that start with a vowel."
   ]
  },
  {
   "cell_type": "code",
   "execution_count": 109,
   "metadata": {},
   "outputs": [
    {
     "name": "stdout",
     "output_type": "stream",
     "text": [
      "a\n",
      "a\n",
      "as\n",
      "and\n",
      "all\n",
      "a\n"
     ]
    }
   ],
   "source": [
    "text = \"Write a generator function that takes a string as input and yields all the words in the string that start with a vowel.\"\n",
    "\n",
    "def vowel_words(text):\n",
    "    words = text.split(\" \")\n",
    "    for word in words:\n",
    "        if word[0] in [\"a\", \"e\", \"o\", \"u\"]:\n",
    "            yield word\n",
    "            \n",
    "for word in vowel_words(text):\n",
    "    print(word)\n"
   ]
  },
  {
   "attachments": {},
   "cell_type": "markdown",
   "metadata": {},
   "source": [
    "Write a lambda function that takes a list of dictionaries representing people, each with keys name and age, and returns a new list with the names of all the people over the age of 18."
   ]
  },
  {
   "cell_type": "code",
   "execution_count": 67,
   "metadata": {},
   "outputs": [
    {
     "name": "stdout",
     "output_type": "stream",
     "text": [
      "['Alice', 'Charlie', 'David']\n"
     ]
    }
   ],
   "source": [
    "people = [\n",
    "    {\"name\": \"Alice\", \"age\": 25},\n",
    "    {\"name\": \"Bob\", \"age\": 17},\n",
    "    {\"name\": \"Charlie\", \"age\": 30},\n",
    "    {\"name\": \"David\", \"age\": 20}\n",
    "]\n",
    "\n",
    "names_over_18 = lambda people: [person[\"name\"] for person in people if person[\"age\"] > 18]\n",
    "\n",
    "names = names_over_18(people)\n",
    "\n",
    "print(names) # ['Alice', 'Charlie', 'David']\n",
    "\n"
   ]
  },
  {
   "cell_type": "code",
   "execution_count": 66,
   "metadata": {},
   "outputs": [
    {
     "name": "stdout",
     "output_type": "stream",
     "text": [
      "1000\n",
      "500\n"
     ]
    }
   ],
   "source": [
    "class bankAccount:\n",
    "    \n",
    "    def __init__(self, account, balance=0):\n",
    "        self.account = account\n",
    "        self.balance = balance\n",
    "        \n",
    "    def withdraw(self, amount):\n",
    "        self.balance = self.balance - amount\n",
    "        \n",
    "    def deposit(self, amount):\n",
    "        self.balance = self.balance + amount\n",
    "        \n",
    "my_account = bankAccount(\"checking\")\n",
    "\n",
    "print(my_account.balance)\n",
    "\n",
    "my_account.withdraw(500)\n",
    "\n",
    "print(my_account.balance)\n",
    "\n",
    "        "
   ]
  }
 ],
 "metadata": {
  "kernelspec": {
   "display_name": "venv",
   "language": "python",
   "name": "python3"
  },
  "language_info": {
   "codemirror_mode": {
    "name": "ipython",
    "version": 3
   },
   "file_extension": ".py",
   "mimetype": "text/x-python",
   "name": "python",
   "nbconvert_exporter": "python",
   "pygments_lexer": "ipython3",
   "version": "3.10.2"
  },
  "orig_nbformat": 4
 },
 "nbformat": 4,
 "nbformat_minor": 2
}
